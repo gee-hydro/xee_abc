{
 "cells": [
  {
   "cell_type": "code",
   "execution_count": 1,
   "id": "22afdd4f-af45-4b55-ae3d-71dc3b2bbac7",
   "metadata": {
    "tags": []
   },
   "outputs": [],
   "source": [
    "import ee\n",
    "import xee\n",
    "import xarray as xr\n",
    "import xarray\n"
   ]
  },
  {
   "cell_type": "code",
   "execution_count": 2,
   "id": "c594d450-a39d-48d1-947f-468436196efa",
   "metadata": {
    "tags": []
   },
   "outputs": [],
   "source": [
    "# ee.Initialize()\n",
    "ee.Initialize(opt_url='https://earthengine-highvolume.googleapis.com')\n"
   ]
  },
  {
   "cell_type": "code",
   "execution_count": 18,
   "id": "f66953a0",
   "metadata": {},
   "outputs": [
    {
     "name": "stdout",
     "output_type": "stream",
     "text": [
      "WuHan_Met_ECMWF_ERA5_LAND_HOURLY_2020.nc\n"
     ]
    },
    {
     "data": {
      "text/plain": [
       "False"
      ]
     },
     "execution_count": 18,
     "metadata": {},
     "output_type": "execute_result"
    }
   ],
   "source": [
    "col_id='ECMWF/ERA5_LAND/HOURLY'\n",
    "\n",
    "year = str(2020)\n",
    "prefix = \"WuHan_Met_\"\n",
    "fout = prefix + col_id.replace(\"/\", \"_\") + \"_\" + str(year) + \".nc\"\n",
    "print(fout)\n",
    "\n",
    "\n",
    "import os.path\n",
    "os.path.isfile(fout)\n"
   ]
  },
  {
   "cell_type": "code",
   "execution_count": 23,
   "id": "c00204b8-da8b-434d-b672-80c2a4a1a755",
   "metadata": {
    "tags": []
   },
   "outputs": [],
   "source": [
    "import os.path\n",
    "\n",
    "\n",
    "def ee_col_download_year(region, col_id='ECMWF/ERA5_LAND/HOURLY', \n",
    "                         year=2022, save=False, prefix=\"\"):\n",
    "\n",
    "    fout = prefix + col_id.replace(\"/\", \"_\") + \"_\" + str(year) + \".nc\"\n",
    "    if os.path.isfile(fout): return\n",
    "    \n",
    "    ic = (ee.ImageCollection(col_id)\n",
    "          # .filterDate('2000-01-01', '2023-01-01')\n",
    "          .filter(ee.Filter.calendarRange(year, year, 'year'))\n",
    "          .select(['temperature_2m', 'u_component_of_wind_10m', 'v_component_of_wind_10m'])\n",
    "    )\n",
    "    print(fout)\n",
    "    print(ic.size().getInfo())\n",
    "    \n",
    "    ds = xarray.open_dataset(\n",
    "        ic,\n",
    "        engine='ee',\n",
    "        projection=ic.first().select(0).projection(),\n",
    "        geometry=region\n",
    "    )\n",
    "    if save: ds.to_netcdf(fout);\n",
    "    ds\n",
    "\n",
    "def ee_col_download_years(region, col_id='ECMWF/ERA5_LAND/HOURLY', \n",
    "    year_beg=2022, year_end=2022, save=False, prefix=\"\"):\n",
    "    \n",
    "    for year in range(year_beg, year_end + 1): \n",
    "        try: \n",
    "            ee_col_download_year(region, col_id, year, save, prefix)\n",
    "        except Exception as e:\n",
    "            print(str(e))\n"
   ]
  },
  {
   "cell_type": "code",
   "execution_count": 24,
   "id": "a9791d73-4aac-4f32-9175-e4ab7e080e10",
   "metadata": {
    "tags": []
   },
   "outputs": [
    {
     "name": "stdout",
     "output_type": "stream",
     "text": [
      "False ECMWF_ERA5_LAND_HOURLY_2023.nc\n",
      "6619\n"
     ]
    },
    {
     "name": "stderr",
     "output_type": "stream",
     "text": [
      "c:\\ProgramData\\Miniconda3\\envs\\rgee\\lib\\site-packages\\xee\\ext.py:514: UserWarning: Converting non-nanosecond precision datetime values to nanosecond precision. This behavior can eventually be relaxed in xarray, as it is an artifact from pandas which is now beginning to support non-nanosecond precision values. This warning is caused by passing non-nanosecond np.datetime64 or np.timedelta64 values to the DataArray or Variable constructor; it can be silenced by converting the values to nanosecond precision ahead of time.\n",
      "  xarray.Variable(self.primary_dim_name, primary_coord),\n"
     ]
    },
    {
     "name": "stdout",
     "output_type": "stream",
     "text": [
      "CPU times: total: 12 s\n",
      "Wall time: 1min 3s\n"
     ]
    }
   ],
   "source": [
    "%%time\n",
    "\n",
    "# range = c(113.5, 115, 29.75, 31.5)\n",
    "region = ee.Geometry.Rectangle(113.5, 29.75, 115, 31.5)\n",
    "\n",
    "prefix = \"WuHan_Met_\"\n",
    "# ee_col_download_year(region, year=2000, save=True)\n",
    "ee_col_download_years(region, year_beg=2023, year_end=2023, save=True)\n"
   ]
  }
 ],
 "metadata": {
  "kernelspec": {
   "display_name": "Python 3 (ipykernel)",
   "language": "python",
   "name": "python3"
  },
  "language_info": {
   "codemirror_mode": {
    "name": "ipython",
    "version": 3
   },
   "file_extension": ".py",
   "mimetype": "text/x-python",
   "name": "python",
   "nbconvert_exporter": "python",
   "pygments_lexer": "ipython3",
   "version": "3.10.8"
  }
 },
 "nbformat": 4,
 "nbformat_minor": 5
}
